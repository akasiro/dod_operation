{
 "cells": [
  {
   "cell_type": "code",
   "execution_count": 1,
   "metadata": {},
   "outputs": [],
   "source": [
    "# this is for merge data for ols no hierachical model\n",
    "# data using datasets\\derived\\reg20200206\n",
    "\n",
    "import pandas as pd\n",
    "import numpy as np\n",
    "import os"
   ]
  },
  {
   "cell_type": "code",
   "execution_count": 14,
   "metadata": {},
   "outputs": [
    {
     "name": "stdout",
     "output_type": "stream",
     "text": [
      "workspace: C:\\Users\\ruc_c\\OneDrive\\文档\\scholar_proj_onedrive\\demand_optimal_distinctiveness\\dod\\work\n"
     ]
    }
   ],
   "source": [
    "workspace = os.path.abspath(os.path.join(os.path.abspath(os.path.dirname('__file__')),'..','..'))\n",
    "print('workspace: {}'.format(workspace))\n",
    "table_path = os.path.join(workplace, 'datasets','derived', 'reg20200206')\n",
    "save_path = table_path"
   ]
  },
  {
   "cell_type": "code",
   "execution_count": 15,
   "metadata": {},
   "outputs": [],
   "source": [
    "# read level 2 data\n",
    "lv2 = pd.read_csv(os.path.join(table_path,'dod_lv2_catedemand20200206.csv'))\n",
    "\n",
    "# read level 1 cover\n",
    "lv1_cover = pd.read_csv(os.path.join(table_path, 'dod_lv1_cover20200206.csv'))\n",
    "\n",
    "# read level 1 mau\n",
    "lv1_mau = pd.read_csv(os.path.join(table_path, 'dod_lv1_mau20200206.csv'))"
   ]
  },
  {
   "cell_type": "code",
   "execution_count": 16,
   "metadata": {},
   "outputs": [
    {
     "name": "stdout",
     "output_type": "stream",
     "text": [
      "(14293, 19)\n"
     ]
    },
    {
     "data": {
      "text/html": [
       "<div>\n",
       "<style scoped>\n",
       "    .dataframe tbody tr th:only-of-type {\n",
       "        vertical-align: middle;\n",
       "    }\n",
       "\n",
       "    .dataframe tbody tr th {\n",
       "        vertical-align: top;\n",
       "    }\n",
       "\n",
       "    .dataframe thead th {\n",
       "        text-align: right;\n",
       "    }\n",
       "</style>\n",
       "<table border=\"1\" class=\"dataframe\">\n",
       "  <thead>\n",
       "    <tr style=\"text-align: right;\">\n",
       "      <th></th>\n",
       "      <th>appleid</th>\n",
       "      <th>date</th>\n",
       "      <th>coverage</th>\n",
       "      <th>type_code</th>\n",
       "      <th>diff</th>\n",
       "      <th>diff2</th>\n",
       "      <th>hetero</th>\n",
       "      <th>span</th>\n",
       "      <th>price</th>\n",
       "      <th>payInApp</th>\n",
       "      <th>size</th>\n",
       "      <th>compatibility</th>\n",
       "      <th>contentRank</th>\n",
       "      <th>age</th>\n",
       "      <th>samepubappnum</th>\n",
       "      <th>lv2id_x</th>\n",
       "      <th>gv_action</th>\n",
       "      <th>c_hetro</th>\n",
       "      <th>lv2id_y</th>\n",
       "    </tr>\n",
       "  </thead>\n",
       "  <tbody>\n",
       "    <tr>\n",
       "      <td>0</td>\n",
       "      <td>307751675</td>\n",
       "      <td>20170131</td>\n",
       "      <td>0.000013</td>\n",
       "      <td>T201300</td>\n",
       "      <td>0.765219</td>\n",
       "      <td>0.585560</td>\n",
       "      <td>2.600000</td>\n",
       "      <td>1.0</td>\n",
       "      <td>6.0</td>\n",
       "      <td>1</td>\n",
       "      <td>12.82</td>\n",
       "      <td>5.1</td>\n",
       "      <td>4.0</td>\n",
       "      <td>8.197260</td>\n",
       "      <td>80</td>\n",
       "      <td>11300</td>\n",
       "      <td>20.716801</td>\n",
       "      <td>21.540771</td>\n",
       "      <td>11300</td>\n",
       "    </tr>\n",
       "    <tr>\n",
       "      <td>1</td>\n",
       "      <td>342994828</td>\n",
       "      <td>20170131</td>\n",
       "      <td>0.004253</td>\n",
       "      <td>T201300</td>\n",
       "      <td>0.894975</td>\n",
       "      <td>0.800981</td>\n",
       "      <td>194.814785</td>\n",
       "      <td>2.0</td>\n",
       "      <td>0.0</td>\n",
       "      <td>0</td>\n",
       "      <td>41.50</td>\n",
       "      <td>6.0</td>\n",
       "      <td>4.0</td>\n",
       "      <td>8.052055</td>\n",
       "      <td>208</td>\n",
       "      <td>11300</td>\n",
       "      <td>20.716801</td>\n",
       "      <td>21.540771</td>\n",
       "      <td>11300</td>\n",
       "    </tr>\n",
       "    <tr>\n",
       "      <td>2</td>\n",
       "      <td>362949845</td>\n",
       "      <td>20170131</td>\n",
       "      <td>0.005239</td>\n",
       "      <td>T201300</td>\n",
       "      <td>0.873545</td>\n",
       "      <td>0.763080</td>\n",
       "      <td>355.187284</td>\n",
       "      <td>1.0</td>\n",
       "      <td>12.0</td>\n",
       "      <td>1</td>\n",
       "      <td>108.99</td>\n",
       "      <td>7.0</td>\n",
       "      <td>4.0</td>\n",
       "      <td>7.704110</td>\n",
       "      <td>13</td>\n",
       "      <td>11300</td>\n",
       "      <td>20.716801</td>\n",
       "      <td>21.540771</td>\n",
       "      <td>11300</td>\n",
       "    </tr>\n",
       "    <tr>\n",
       "      <td>3</td>\n",
       "      <td>377194688</td>\n",
       "      <td>20170131</td>\n",
       "      <td>0.002404</td>\n",
       "      <td>T201300</td>\n",
       "      <td>0.875176</td>\n",
       "      <td>0.765934</td>\n",
       "      <td>121.062520</td>\n",
       "      <td>1.0</td>\n",
       "      <td>0.0</td>\n",
       "      <td>1</td>\n",
       "      <td>112.48</td>\n",
       "      <td>8.0</td>\n",
       "      <td>4.0</td>\n",
       "      <td>7.520548</td>\n",
       "      <td>37</td>\n",
       "      <td>11300</td>\n",
       "      <td>20.716801</td>\n",
       "      <td>21.540771</td>\n",
       "      <td>11300</td>\n",
       "    </tr>\n",
       "    <tr>\n",
       "      <td>4</td>\n",
       "      <td>398157641</td>\n",
       "      <td>20170131</td>\n",
       "      <td>0.000581</td>\n",
       "      <td>T201300</td>\n",
       "      <td>0.361260</td>\n",
       "      <td>0.130509</td>\n",
       "      <td>95.071894</td>\n",
       "      <td>1.0</td>\n",
       "      <td>0.0</td>\n",
       "      <td>1</td>\n",
       "      <td>293.37</td>\n",
       "      <td>7.0</td>\n",
       "      <td>4.0</td>\n",
       "      <td>7.202740</td>\n",
       "      <td>25</td>\n",
       "      <td>11300</td>\n",
       "      <td>20.716801</td>\n",
       "      <td>21.540771</td>\n",
       "      <td>11300</td>\n",
       "    </tr>\n",
       "  </tbody>\n",
       "</table>\n",
       "</div>"
      ],
      "text/plain": [
       "     appleid      date  coverage type_code      diff     diff2      hetero  \\\n",
       "0  307751675  20170131  0.000013   T201300  0.765219  0.585560    2.600000   \n",
       "1  342994828  20170131  0.004253   T201300  0.894975  0.800981  194.814785   \n",
       "2  362949845  20170131  0.005239   T201300  0.873545  0.763080  355.187284   \n",
       "3  377194688  20170131  0.002404   T201300  0.875176  0.765934  121.062520   \n",
       "4  398157641  20170131  0.000581   T201300  0.361260  0.130509   95.071894   \n",
       "\n",
       "   span  price  payInApp    size  compatibility  contentRank       age  \\\n",
       "0   1.0    6.0         1   12.82            5.1          4.0  8.197260   \n",
       "1   2.0    0.0         0   41.50            6.0          4.0  8.052055   \n",
       "2   1.0   12.0         1  108.99            7.0          4.0  7.704110   \n",
       "3   1.0    0.0         1  112.48            8.0          4.0  7.520548   \n",
       "4   1.0    0.0         1  293.37            7.0          4.0  7.202740   \n",
       "\n",
       "   samepubappnum  lv2id_x  gv_action    c_hetro  lv2id_y  \n",
       "0             80    11300  20.716801  21.540771    11300  \n",
       "1            208    11300  20.716801  21.540771    11300  \n",
       "2             13    11300  20.716801  21.540771    11300  \n",
       "3             37    11300  20.716801  21.540771    11300  \n",
       "4             25    11300  20.716801  21.540771    11300  "
      ]
     },
     "execution_count": 16,
     "metadata": {},
     "output_type": "execute_result"
    }
   ],
   "source": [
    "# merge lv2 and lv1 cover\n",
    "cover = lv1_cover.merge(lv2, on = ['date', 'type_code'])\n",
    "print(cover.shape)\n",
    "cover.head()"
   ]
  },
  {
   "cell_type": "code",
   "execution_count": 18,
   "metadata": {},
   "outputs": [
    {
     "name": "stdout",
     "output_type": "stream",
     "text": [
      "(10809, 19)\n"
     ]
    },
    {
     "data": {
      "text/html": [
       "<div>\n",
       "<style scoped>\n",
       "    .dataframe tbody tr th:only-of-type {\n",
       "        vertical-align: middle;\n",
       "    }\n",
       "\n",
       "    .dataframe tbody tr th {\n",
       "        vertical-align: top;\n",
       "    }\n",
       "\n",
       "    .dataframe thead th {\n",
       "        text-align: right;\n",
       "    }\n",
       "</style>\n",
       "<table border=\"1\" class=\"dataframe\">\n",
       "  <thead>\n",
       "    <tr style=\"text-align: right;\">\n",
       "      <th></th>\n",
       "      <th>appleid</th>\n",
       "      <th>date</th>\n",
       "      <th>mau</th>\n",
       "      <th>type_code</th>\n",
       "      <th>diff</th>\n",
       "      <th>diff2</th>\n",
       "      <th>hetero</th>\n",
       "      <th>span</th>\n",
       "      <th>price</th>\n",
       "      <th>payInApp</th>\n",
       "      <th>size</th>\n",
       "      <th>compatibility</th>\n",
       "      <th>contentRank</th>\n",
       "      <th>age</th>\n",
       "      <th>samepubappnum</th>\n",
       "      <th>lv2id_x</th>\n",
       "      <th>gv_action</th>\n",
       "      <th>c_hetro</th>\n",
       "      <th>lv2id_y</th>\n",
       "    </tr>\n",
       "  </thead>\n",
       "  <tbody>\n",
       "    <tr>\n",
       "      <td>0</td>\n",
       "      <td>307751675</td>\n",
       "      <td>20170131</td>\n",
       "      <td>0.000013</td>\n",
       "      <td>T201300</td>\n",
       "      <td>0.765219</td>\n",
       "      <td>0.585560</td>\n",
       "      <td>2.600000</td>\n",
       "      <td>1.0</td>\n",
       "      <td>6.0</td>\n",
       "      <td>1</td>\n",
       "      <td>12.82</td>\n",
       "      <td>5.1</td>\n",
       "      <td>4.0</td>\n",
       "      <td>8.197260</td>\n",
       "      <td>80</td>\n",
       "      <td>11300</td>\n",
       "      <td>20.716801</td>\n",
       "      <td>21.540771</td>\n",
       "      <td>11300</td>\n",
       "    </tr>\n",
       "    <tr>\n",
       "      <td>1</td>\n",
       "      <td>342994828</td>\n",
       "      <td>20170131</td>\n",
       "      <td>0.000415</td>\n",
       "      <td>T201300</td>\n",
       "      <td>0.894975</td>\n",
       "      <td>0.800981</td>\n",
       "      <td>194.814785</td>\n",
       "      <td>2.0</td>\n",
       "      <td>0.0</td>\n",
       "      <td>0</td>\n",
       "      <td>41.50</td>\n",
       "      <td>6.0</td>\n",
       "      <td>4.0</td>\n",
       "      <td>8.052055</td>\n",
       "      <td>208</td>\n",
       "      <td>11300</td>\n",
       "      <td>20.716801</td>\n",
       "      <td>21.540771</td>\n",
       "      <td>11300</td>\n",
       "    </tr>\n",
       "    <tr>\n",
       "      <td>2</td>\n",
       "      <td>362949845</td>\n",
       "      <td>20170131</td>\n",
       "      <td>0.000616</td>\n",
       "      <td>T201300</td>\n",
       "      <td>0.873545</td>\n",
       "      <td>0.763080</td>\n",
       "      <td>355.187284</td>\n",
       "      <td>1.0</td>\n",
       "      <td>12.0</td>\n",
       "      <td>1</td>\n",
       "      <td>108.99</td>\n",
       "      <td>7.0</td>\n",
       "      <td>4.0</td>\n",
       "      <td>7.704110</td>\n",
       "      <td>13</td>\n",
       "      <td>11300</td>\n",
       "      <td>20.716801</td>\n",
       "      <td>21.540771</td>\n",
       "      <td>11300</td>\n",
       "    </tr>\n",
       "    <tr>\n",
       "      <td>3</td>\n",
       "      <td>377194688</td>\n",
       "      <td>20170131</td>\n",
       "      <td>0.000381</td>\n",
       "      <td>T201300</td>\n",
       "      <td>0.875176</td>\n",
       "      <td>0.765934</td>\n",
       "      <td>121.062520</td>\n",
       "      <td>1.0</td>\n",
       "      <td>0.0</td>\n",
       "      <td>1</td>\n",
       "      <td>112.48</td>\n",
       "      <td>8.0</td>\n",
       "      <td>4.0</td>\n",
       "      <td>7.520548</td>\n",
       "      <td>37</td>\n",
       "      <td>11300</td>\n",
       "      <td>20.716801</td>\n",
       "      <td>21.540771</td>\n",
       "      <td>11300</td>\n",
       "    </tr>\n",
       "    <tr>\n",
       "      <td>4</td>\n",
       "      <td>398157641</td>\n",
       "      <td>20170131</td>\n",
       "      <td>0.000062</td>\n",
       "      <td>T201300</td>\n",
       "      <td>0.361260</td>\n",
       "      <td>0.130509</td>\n",
       "      <td>95.071894</td>\n",
       "      <td>1.0</td>\n",
       "      <td>0.0</td>\n",
       "      <td>1</td>\n",
       "      <td>293.37</td>\n",
       "      <td>7.0</td>\n",
       "      <td>4.0</td>\n",
       "      <td>7.202740</td>\n",
       "      <td>25</td>\n",
       "      <td>11300</td>\n",
       "      <td>20.716801</td>\n",
       "      <td>21.540771</td>\n",
       "      <td>11300</td>\n",
       "    </tr>\n",
       "  </tbody>\n",
       "</table>\n",
       "</div>"
      ],
      "text/plain": [
       "     appleid      date       mau type_code      diff     diff2      hetero  \\\n",
       "0  307751675  20170131  0.000013   T201300  0.765219  0.585560    2.600000   \n",
       "1  342994828  20170131  0.000415   T201300  0.894975  0.800981  194.814785   \n",
       "2  362949845  20170131  0.000616   T201300  0.873545  0.763080  355.187284   \n",
       "3  377194688  20170131  0.000381   T201300  0.875176  0.765934  121.062520   \n",
       "4  398157641  20170131  0.000062   T201300  0.361260  0.130509   95.071894   \n",
       "\n",
       "   span  price  payInApp    size  compatibility  contentRank       age  \\\n",
       "0   1.0    6.0         1   12.82            5.1          4.0  8.197260   \n",
       "1   2.0    0.0         0   41.50            6.0          4.0  8.052055   \n",
       "2   1.0   12.0         1  108.99            7.0          4.0  7.704110   \n",
       "3   1.0    0.0         1  112.48            8.0          4.0  7.520548   \n",
       "4   1.0    0.0         1  293.37            7.0          4.0  7.202740   \n",
       "\n",
       "   samepubappnum  lv2id_x  gv_action    c_hetro  lv2id_y  \n",
       "0             80    11300  20.716801  21.540771    11300  \n",
       "1            208    11300  20.716801  21.540771    11300  \n",
       "2             13    11300  20.716801  21.540771    11300  \n",
       "3             37    11300  20.716801  21.540771    11300  \n",
       "4             25    11300  20.716801  21.540771    11300  "
      ]
     },
     "execution_count": 18,
     "metadata": {},
     "output_type": "execute_result"
    }
   ],
   "source": [
    "# merge lv2 and lv1 mau\n",
    "mau = lv1_mau.merge(lv2, on = ['date', 'type_code'])\n",
    "print(mau.shape)\n",
    "mau.head()"
   ]
  },
  {
   "cell_type": "code",
   "execution_count": 19,
   "metadata": {},
   "outputs": [
    {
     "name": "stdout",
     "output_type": "stream",
     "text": [
      "file saved: C:\\Users\\ruc_c\\OneDrive\\文档\\scholar_proj_onedrive\\demand_optimal_distinctiveness\\dod\\work\\datasets\\derived\\reg20200206\\dod_lv1lv2_cover20200221.csv\n",
      "file saved: C:\\Users\\ruc_c\\OneDrive\\文档\\scholar_proj_onedrive\\demand_optimal_distinctiveness\\dod\\work\\datasets\\derived\\reg20200206\\dod_lv1lv2_mau20200221.csv\n"
     ]
    }
   ],
   "source": [
    "# save data\n",
    "def save_data(filename, df):\n",
    "    filename_full = os.path.join(save_path, filename)\n",
    "    if not os.path.exists(filename_full):\n",
    "        df.to_csv(filename_full, index = False)\n",
    "        print('file saved: {}'.format(filename_full))\n",
    "    else:\n",
    "        print('file already exists: {}'.format(filename_full))\n",
    "        \n",
    "cover_filename = 'dod_lv1lv2_cover20200221.csv'\n",
    "mau_filename = 'dod_lv1lv2_mau20200221.csv'\n",
    "\n",
    "save_data(cover_filename, cover)\n",
    "save_data(mau_filename, mau)"
   ]
  },
  {
   "cell_type": "code",
   "execution_count": 26,
   "metadata": {},
   "outputs": [],
   "source": [
    "import matplotlib.pyplot as plt\n",
    "import seaborn as sns\n",
    "import math"
   ]
  },
  {
   "cell_type": "code",
   "execution_count": 23,
   "metadata": {},
   "outputs": [],
   "source": [
    "y = mau['mau']"
   ]
  },
  {
   "cell_type": "code",
   "execution_count": 29,
   "metadata": {},
   "outputs": [],
   "source": [
    "yln = np.log(y)"
   ]
  },
  {
   "cell_type": "code",
   "execution_count": 30,
   "metadata": {},
   "outputs": [
    {
     "data": {
      "text/plain": [
       "<matplotlib.axes._subplots.AxesSubplot at 0x170174e1f08>"
      ]
     },
     "execution_count": 30,
     "metadata": {},
     "output_type": "execute_result"
    },
    {
     "data": {
      "image/png": "[encoded data removed]",
      "text/plain": [
       "<Figure size 432x288 with 1 Axes>"
      ]
     },
     "metadata": {
      "needs_background": "light"
     },
     "output_type": "display_data"
    }
   ],
   "source": [
    "sns.kdeplot(yln)"
   ]
  },
  {
   "cell_type": "code",
   "execution_count": 31,
   "metadata": {},
   "outputs": [
    {
     "data": {
      "text/plain": [
       "<matplotlib.axes._subplots.AxesSubplot at 0x170178f6b88>"
      ]
     },
     "execution_count": 31,
     "metadata": {},
     "output_type": "execute_result"
    },
    {
     "data": {
      "image/png": "[encoded data removed]",
      "text/plain": [
       "<Figure size 432x288 with 1 Axes>"
      ]
     },
     "metadata": {
      "needs_background": "light"
     },
     "output_type": "display_data"
    }
   ],
   "source": [
    "sns.kdeplot(y)"
   ]
  },
  {
   "cell_type": "code",
   "execution_count": null,
   "metadata": {},
   "outputs": [],
   "source": []
  }
 ],
 "metadata": {
  "kernelspec": {
   "display_name": "Python 3",
   "language": "python",
   "name": "python3"
  },
  "language_info": {
   "codemirror_mode": {
    "name": "ipython",
    "version": 3
   },
   "file_extension": ".py",
   "mimetype": "text/x-python",
   "name": "python",
   "nbconvert_exporter": "python",
   "pygments_lexer": "ipython3",
   "version": "3.7.4"
  }
 },
 "nbformat": 4,
 "nbformat_minor": 4
}
