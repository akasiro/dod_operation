{
 "cells": [
  {
   "cell_type": "code",
   "execution_count": 66,
   "metadata": {},
   "outputs": [],
   "source": [
    "import sqlite3,os\n",
    "import pandas as pd\n",
    "import numpy as np\n",
    "import matplotlib.pyplot as plt\n",
    "import seaborn as sns\n",
    "\n",
    "workspace = os.path.abspath(os.path.join(os.path.abspath(os.path.dirname('__file__')),'..','..'))\n",
    "print('workspace: {}'.format(workspace))\n",
    "db_path = os.path.join(workspace, r'datasets/source/aso20190723.db')\n",
    "csv_path = os.path.join(workspace, r'datasets/source/download_from_tdplatform/category_demand_action_gv20200127.csv')\n",
    "\n",
    "save_path = os.path.join(workspace,r'datasets/derived/reg20200206')\n",
    "if not os.path.exists(save_path):\n",
    "    os.mkdir(save_path)"
   ]
  },
  {
   "cell_type": "markdown",
   "metadata": {},
   "source": [
    "# 1. get data form db\n",
    "result table:\n",
    "* bs1\n",
    "* diff1\n",
    "* perf1\n",
    "* demand1\n",
    "* c1_demand1\n",
    "* c2_demand1"
   ]
  },
  {
   "cell_type": "code",
   "execution_count": 2,
   "metadata": {},
   "outputs": [],
   "source": [
    "conn = sqlite3.connect(db_path)\n",
    "c = conn.cursor()"
   ]
  },
  {
   "cell_type": "code",
   "execution_count": 3,
   "metadata": {},
   "outputs": [],
   "source": [
    "# sql_query\n",
    "q1 = 'select * from bs_pkg_span20190912'\n",
    "q2 = 'select * from aso_diff20190724'\n",
    "q3 = 'select * from perf_appleid20190913'\n",
    "q4 = 'select * from game_demand_appleid201909013'\n",
    "q5 = 'select * from category_demand_td_20190820'"
   ]
  },
  {
   "cell_type": "code",
   "execution_count": 4,
   "metadata": {},
   "outputs": [],
   "source": [
    "bs1 = pd.read_sql(q1, conn)\n",
    "bs1 = bs1[['appleid','span','price','payInApp','size','compatibility','contentRank','age','samepubappnum']]"
   ]
  },
  {
   "cell_type": "code",
   "execution_count": 5,
   "metadata": {},
   "outputs": [
    {
     "data": {
      "text/plain": [
       "(15861, 9)"
      ]
     },
     "execution_count": 5,
     "metadata": {},
     "output_type": "execute_result"
    }
   ],
   "source": [
    "bs1.shape"
   ]
  },
  {
   "cell_type": "code",
   "execution_count": 6,
   "metadata": {},
   "outputs": [
    {
     "data": {
      "text/html": [
       "<div>\n",
       "<style scoped>\n",
       "    .dataframe tbody tr th:only-of-type {\n",
       "        vertical-align: middle;\n",
       "    }\n",
       "\n",
       "    .dataframe tbody tr th {\n",
       "        vertical-align: top;\n",
       "    }\n",
       "\n",
       "    .dataframe thead th {\n",
       "        text-align: right;\n",
       "    }\n",
       "</style>\n",
       "<table border=\"1\" class=\"dataframe\">\n",
       "  <thead>\n",
       "    <tr style=\"text-align: right;\">\n",
       "      <th></th>\n",
       "      <th>appleid</th>\n",
       "      <th>span</th>\n",
       "      <th>price</th>\n",
       "      <th>payInApp</th>\n",
       "      <th>size</th>\n",
       "      <th>compatibility</th>\n",
       "      <th>contentRank</th>\n",
       "      <th>age</th>\n",
       "      <th>samepubappnum</th>\n",
       "    </tr>\n",
       "  </thead>\n",
       "  <tbody>\n",
       "    <tr>\n",
       "      <th>0</th>\n",
       "      <td>281736535</td>\n",
       "      <td>1.0</td>\n",
       "      <td>12.0</td>\n",
       "      <td>1</td>\n",
       "      <td>23.06</td>\n",
       "      <td>8.0</td>\n",
       "      <td>4.0</td>\n",
       "      <td>9.482192</td>\n",
       "      <td>23</td>\n",
       "    </tr>\n",
       "    <tr>\n",
       "      <th>1</th>\n",
       "      <td>284480400</td>\n",
       "      <td>NaN</td>\n",
       "      <td>6.0</td>\n",
       "      <td>0</td>\n",
       "      <td>13.65</td>\n",
       "      <td>6.0</td>\n",
       "      <td>4.0</td>\n",
       "      <td>9.482192</td>\n",
       "      <td>31</td>\n",
       "    </tr>\n",
       "    <tr>\n",
       "      <th>2</th>\n",
       "      <td>284752907</td>\n",
       "      <td>NaN</td>\n",
       "      <td>6.0</td>\n",
       "      <td>1</td>\n",
       "      <td>51.03</td>\n",
       "      <td>6.0</td>\n",
       "      <td>4.0</td>\n",
       "      <td>9.482192</td>\n",
       "      <td>31</td>\n",
       "    </tr>\n",
       "    <tr>\n",
       "      <th>3</th>\n",
       "      <td>284911691</td>\n",
       "      <td>NaN</td>\n",
       "      <td>6.0</td>\n",
       "      <td>0</td>\n",
       "      <td>NaN</td>\n",
       "      <td>NaN</td>\n",
       "      <td>NaN</td>\n",
       "      <td>9.482192</td>\n",
       "      <td>0</td>\n",
       "    </tr>\n",
       "    <tr>\n",
       "      <th>4</th>\n",
       "      <td>284943962</td>\n",
       "      <td>NaN</td>\n",
       "      <td>6.0</td>\n",
       "      <td>0</td>\n",
       "      <td>48.20</td>\n",
       "      <td>NaN</td>\n",
       "      <td>4.0</td>\n",
       "      <td>9.482192</td>\n",
       "      <td>7</td>\n",
       "    </tr>\n",
       "  </tbody>\n",
       "</table>\n",
       "</div>"
      ],
      "text/plain": [
       "     appleid  span  price  payInApp   size  compatibility  contentRank  \\\n",
       "0  281736535   1.0   12.0         1  23.06            8.0          4.0   \n",
       "1  284480400   NaN    6.0         0  13.65            6.0          4.0   \n",
       "2  284752907   NaN    6.0         1  51.03            6.0          4.0   \n",
       "3  284911691   NaN    6.0         0    NaN            NaN          NaN   \n",
       "4  284943962   NaN    6.0         0  48.20            NaN          4.0   \n",
       "\n",
       "        age  samepubappnum  \n",
       "0  9.482192             23  \n",
       "1  9.482192             31  \n",
       "2  9.482192             31  \n",
       "3  9.482192              0  \n",
       "4  9.482192              7  "
      ]
     },
     "execution_count": 6,
     "metadata": {},
     "output_type": "execute_result"
    }
   ],
   "source": [
    "bs1.head()"
   ]
  },
  {
   "cell_type": "code",
   "execution_count": 7,
   "metadata": {},
   "outputs": [],
   "source": [
    "diff1 = pd.read_sql(q2, conn)\n",
    "diff1 = diff1[['appleid', 'type_code', 'date','diff_e_max']]"
   ]
  },
  {
   "cell_type": "code",
   "execution_count": 8,
   "metadata": {},
   "outputs": [
    {
     "data": {
      "text/plain": [
       "(17046, 4)"
      ]
     },
     "execution_count": 8,
     "metadata": {},
     "output_type": "execute_result"
    }
   ],
   "source": [
    "diff1. shape"
   ]
  },
  {
   "cell_type": "code",
   "execution_count": 9,
   "metadata": {},
   "outputs": [
    {
     "data": {
      "text/html": [
       "<div>\n",
       "<style scoped>\n",
       "    .dataframe tbody tr th:only-of-type {\n",
       "        vertical-align: middle;\n",
       "    }\n",
       "\n",
       "    .dataframe tbody tr th {\n",
       "        vertical-align: top;\n",
       "    }\n",
       "\n",
       "    .dataframe thead th {\n",
       "        text-align: right;\n",
       "    }\n",
       "</style>\n",
       "<table border=\"1\" class=\"dataframe\">\n",
       "  <thead>\n",
       "    <tr style=\"text-align: right;\">\n",
       "      <th></th>\n",
       "      <th>appleid</th>\n",
       "      <th>type_code</th>\n",
       "      <th>date</th>\n",
       "      <th>diff_e_max</th>\n",
       "    </tr>\n",
       "  </thead>\n",
       "  <tbody>\n",
       "    <tr>\n",
       "      <th>0</th>\n",
       "      <td>1074628617</td>\n",
       "      <td>T200500</td>\n",
       "      <td>20170131</td>\n",
       "      <td>0.776210</td>\n",
       "    </tr>\n",
       "    <tr>\n",
       "      <th>1</th>\n",
       "      <td>1074628617</td>\n",
       "      <td>T200500</td>\n",
       "      <td>20170228</td>\n",
       "      <td>0.776484</td>\n",
       "    </tr>\n",
       "    <tr>\n",
       "      <th>2</th>\n",
       "      <td>1074628617</td>\n",
       "      <td>T200500</td>\n",
       "      <td>20170331</td>\n",
       "      <td>0.776747</td>\n",
       "    </tr>\n",
       "    <tr>\n",
       "      <th>3</th>\n",
       "      <td>1074628617</td>\n",
       "      <td>T200500</td>\n",
       "      <td>20170430</td>\n",
       "      <td>0.777052</td>\n",
       "    </tr>\n",
       "    <tr>\n",
       "      <th>4</th>\n",
       "      <td>1074628617</td>\n",
       "      <td>T200500</td>\n",
       "      <td>20170531</td>\n",
       "      <td>0.777343</td>\n",
       "    </tr>\n",
       "  </tbody>\n",
       "</table>\n",
       "</div>"
      ],
      "text/plain": [
       "      appleid type_code      date  diff_e_max\n",
       "0  1074628617   T200500  20170131    0.776210\n",
       "1  1074628617   T200500  20170228    0.776484\n",
       "2  1074628617   T200500  20170331    0.776747\n",
       "3  1074628617   T200500  20170430    0.777052\n",
       "4  1074628617   T200500  20170531    0.777343"
      ]
     },
     "execution_count": 9,
     "metadata": {},
     "output_type": "execute_result"
    }
   ],
   "source": [
    "diff1.head()"
   ]
  },
  {
   "cell_type": "code",
   "execution_count": 10,
   "metadata": {},
   "outputs": [],
   "source": [
    "perf1 = pd.read_sql(q3, conn)\n",
    "perf1 = perf1[['appleid', 'date', 'mau', 'coverage']]"
   ]
  },
  {
   "cell_type": "code",
   "execution_count": 11,
   "metadata": {},
   "outputs": [
    {
     "data": {
      "text/plain": [
       "(18625, 4)"
      ]
     },
     "execution_count": 11,
     "metadata": {},
     "output_type": "execute_result"
    }
   ],
   "source": [
    "perf1.shape"
   ]
  },
  {
   "cell_type": "code",
   "execution_count": 12,
   "metadata": {},
   "outputs": [
    {
     "data": {
      "text/html": [
       "<div>\n",
       "<style scoped>\n",
       "    .dataframe tbody tr th:only-of-type {\n",
       "        vertical-align: middle;\n",
       "    }\n",
       "\n",
       "    .dataframe tbody tr th {\n",
       "        vertical-align: top;\n",
       "    }\n",
       "\n",
       "    .dataframe thead th {\n",
       "        text-align: right;\n",
       "    }\n",
       "</style>\n",
       "<table border=\"1\" class=\"dataframe\">\n",
       "  <thead>\n",
       "    <tr style=\"text-align: right;\">\n",
       "      <th></th>\n",
       "      <th>appleid</th>\n",
       "      <th>date</th>\n",
       "      <th>mau</th>\n",
       "      <th>coverage</th>\n",
       "    </tr>\n",
       "  </thead>\n",
       "  <tbody>\n",
       "    <tr>\n",
       "      <th>0</th>\n",
       "      <td>66204</td>\n",
       "      <td>20170131</td>\n",
       "      <td>0.000008</td>\n",
       "      <td>0.000096</td>\n",
       "    </tr>\n",
       "    <tr>\n",
       "      <th>1</th>\n",
       "      <td>9223426</td>\n",
       "      <td>20170131</td>\n",
       "      <td>0.000027</td>\n",
       "      <td>0.000169</td>\n",
       "    </tr>\n",
       "    <tr>\n",
       "      <th>2</th>\n",
       "      <td>281736535</td>\n",
       "      <td>20170131</td>\n",
       "      <td>0.000067</td>\n",
       "      <td>0.000072</td>\n",
       "    </tr>\n",
       "    <tr>\n",
       "      <th>3</th>\n",
       "      <td>307751675</td>\n",
       "      <td>20170131</td>\n",
       "      <td>0.000013</td>\n",
       "      <td>0.000013</td>\n",
       "    </tr>\n",
       "    <tr>\n",
       "      <th>4</th>\n",
       "      <td>328992396</td>\n",
       "      <td>20170131</td>\n",
       "      <td>0.000029</td>\n",
       "      <td>0.000249</td>\n",
       "    </tr>\n",
       "  </tbody>\n",
       "</table>\n",
       "</div>"
      ],
      "text/plain": [
       "     appleid      date       mau  coverage\n",
       "0      66204  20170131  0.000008  0.000096\n",
       "1    9223426  20170131  0.000027  0.000169\n",
       "2  281736535  20170131  0.000067  0.000072\n",
       "3  307751675  20170131  0.000013  0.000013\n",
       "4  328992396  20170131  0.000029  0.000249"
      ]
     },
     "execution_count": 12,
     "metadata": {},
     "output_type": "execute_result"
    }
   ],
   "source": [
    "perf1.head()"
   ]
  },
  {
   "cell_type": "code",
   "execution_count": 13,
   "metadata": {},
   "outputs": [
    {
     "data": {
      "text/plain": [
       "<matplotlib.axes._subplots.AxesSubplot at 0x7f1262df6eb8>"
      ]
     },
     "execution_count": 13,
     "metadata": {},
     "output_type": "execute_result"
    },
    {
     "data": {
      "image/png": "[encoded data removed]",
      "text/plain": [
       "<Figure size 432x288 with 1 Axes>"
      ]
     },
     "metadata": {
      "needs_background": "light"
     },
     "output_type": "display_data"
    }
   ],
   "source": [
    "sns.kdeplot(perf1['mau'])"
   ]
  },
  {
   "cell_type": "code",
   "execution_count": 14,
   "metadata": {},
   "outputs": [
    {
     "data": {
      "text/plain": [
       "<matplotlib.axes._subplots.AxesSubplot at 0x7f126309bb70>"
      ]
     },
     "execution_count": 14,
     "metadata": {},
     "output_type": "execute_result"
    },
    {
     "data": {
      "image/png": "[encoded data removed]",
      "text/plain": [
       "<Figure size 432x288 with 1 Axes>"
      ]
     },
     "metadata": {
      "needs_background": "light"
     },
     "output_type": "display_data"
    }
   ],
   "source": [
    "sns.kdeplot(perf1['coverage'])"
   ]
  },
  {
   "cell_type": "code",
   "execution_count": 15,
   "metadata": {},
   "outputs": [],
   "source": [
    "demand1 = pd.read_sql(q4, conn)\n",
    "demand1 = demand1[['appleid','date','g_game_v','g_gtype_v']]"
   ]
  },
  {
   "cell_type": "code",
   "execution_count": 16,
   "metadata": {},
   "outputs": [
    {
     "data": {
      "text/plain": [
       "(18625, 4)"
      ]
     },
     "execution_count": 16,
     "metadata": {},
     "output_type": "execute_result"
    }
   ],
   "source": [
    "demand1.shape"
   ]
  },
  {
   "cell_type": "code",
   "execution_count": 17,
   "metadata": {},
   "outputs": [
    {
     "data": {
      "text/html": [
       "<div>\n",
       "<style scoped>\n",
       "    .dataframe tbody tr th:only-of-type {\n",
       "        vertical-align: middle;\n",
       "    }\n",
       "\n",
       "    .dataframe tbody tr th {\n",
       "        vertical-align: top;\n",
       "    }\n",
       "\n",
       "    .dataframe thead th {\n",
       "        text-align: right;\n",
       "    }\n",
       "</style>\n",
       "<table border=\"1\" class=\"dataframe\">\n",
       "  <thead>\n",
       "    <tr style=\"text-align: right;\">\n",
       "      <th></th>\n",
       "      <th>appleid</th>\n",
       "      <th>date</th>\n",
       "      <th>g_game_v</th>\n",
       "      <th>g_gtype_v</th>\n",
       "    </tr>\n",
       "  </thead>\n",
       "  <tbody>\n",
       "    <tr>\n",
       "      <th>0</th>\n",
       "      <td>66204</td>\n",
       "      <td>20170131</td>\n",
       "      <td>104.256349</td>\n",
       "      <td>4.694444</td>\n",
       "    </tr>\n",
       "    <tr>\n",
       "      <th>1</th>\n",
       "      <td>66204</td>\n",
       "      <td>20170228</td>\n",
       "      <td>140.612903</td>\n",
       "      <td>5.623656</td>\n",
       "    </tr>\n",
       "    <tr>\n",
       "      <th>2</th>\n",
       "      <td>66204</td>\n",
       "      <td>20170331</td>\n",
       "      <td>111.980296</td>\n",
       "      <td>5.667488</td>\n",
       "    </tr>\n",
       "    <tr>\n",
       "      <th>3</th>\n",
       "      <td>66204</td>\n",
       "      <td>20170430</td>\n",
       "      <td>501.042105</td>\n",
       "      <td>10.589474</td>\n",
       "    </tr>\n",
       "    <tr>\n",
       "      <th>4</th>\n",
       "      <td>66204</td>\n",
       "      <td>20170531</td>\n",
       "      <td>97.442688</td>\n",
       "      <td>4.312253</td>\n",
       "    </tr>\n",
       "  </tbody>\n",
       "</table>\n",
       "</div>"
      ],
      "text/plain": [
       "   appleid      date    g_game_v  g_gtype_v\n",
       "0    66204  20170131  104.256349   4.694444\n",
       "1    66204  20170228  140.612903   5.623656\n",
       "2    66204  20170331  111.980296   5.667488\n",
       "3    66204  20170430  501.042105  10.589474\n",
       "4    66204  20170531   97.442688   4.312253"
      ]
     },
     "execution_count": 17,
     "metadata": {},
     "output_type": "execute_result"
    }
   ],
   "source": [
    "demand1.head()"
   ]
  },
  {
   "cell_type": "code",
   "execution_count": 18,
   "metadata": {},
   "outputs": [],
   "source": [
    "c1_demand1 = pd.read_csv(csv_path)"
   ]
  },
  {
   "cell_type": "code",
   "execution_count": 19,
   "metadata": {},
   "outputs": [
    {
     "data": {
      "text/plain": [
       "(264, 3)"
      ]
     },
     "execution_count": 19,
     "metadata": {},
     "output_type": "execute_result"
    }
   ],
   "source": [
    "c1_demand1.shape"
   ]
  },
  {
   "cell_type": "code",
   "execution_count": 20,
   "metadata": {},
   "outputs": [
    {
     "data": {
      "text/html": [
       "<div>\n",
       "<style scoped>\n",
       "    .dataframe tbody tr th:only-of-type {\n",
       "        vertical-align: middle;\n",
       "    }\n",
       "\n",
       "    .dataframe tbody tr th {\n",
       "        vertical-align: top;\n",
       "    }\n",
       "\n",
       "    .dataframe thead th {\n",
       "        text-align: right;\n",
       "    }\n",
       "</style>\n",
       "<table border=\"1\" class=\"dataframe\">\n",
       "  <thead>\n",
       "    <tr style=\"text-align: right;\">\n",
       "      <th></th>\n",
       "      <th>gv_action</th>\n",
       "      <th>type_code</th>\n",
       "      <th>date</th>\n",
       "    </tr>\n",
       "  </thead>\n",
       "  <tbody>\n",
       "    <tr>\n",
       "      <th>0</th>\n",
       "      <td>95.510855</td>\n",
       "      <td>T200100</td>\n",
       "      <td>20170131</td>\n",
       "    </tr>\n",
       "    <tr>\n",
       "      <th>1</th>\n",
       "      <td>411.297467</td>\n",
       "      <td>T200200</td>\n",
       "      <td>20170131</td>\n",
       "    </tr>\n",
       "    <tr>\n",
       "      <th>2</th>\n",
       "      <td>108.266318</td>\n",
       "      <td>T200300</td>\n",
       "      <td>20170131</td>\n",
       "    </tr>\n",
       "    <tr>\n",
       "      <th>3</th>\n",
       "      <td>193.082326</td>\n",
       "      <td>T200400</td>\n",
       "      <td>20170131</td>\n",
       "    </tr>\n",
       "    <tr>\n",
       "      <th>4</th>\n",
       "      <td>432.797553</td>\n",
       "      <td>T200500</td>\n",
       "      <td>20170131</td>\n",
       "    </tr>\n",
       "  </tbody>\n",
       "</table>\n",
       "</div>"
      ],
      "text/plain": [
       "    gv_action type_code      date\n",
       "0   95.510855   T200100  20170131\n",
       "1  411.297467   T200200  20170131\n",
       "2  108.266318   T200300  20170131\n",
       "3  193.082326   T200400  20170131\n",
       "4  432.797553   T200500  20170131"
      ]
     },
     "execution_count": 20,
     "metadata": {},
     "output_type": "execute_result"
    }
   ],
   "source": [
    "c1_demand1.head()"
   ]
  },
  {
   "cell_type": "code",
   "execution_count": 21,
   "metadata": {},
   "outputs": [],
   "source": [
    "c2_demand1 = pd.read_sql(q5, conn)\n",
    "c2_demand1 = c2_demand1[['type_code','date','gtype_v','game_v']]"
   ]
  },
  {
   "cell_type": "code",
   "execution_count": 22,
   "metadata": {},
   "outputs": [
    {
     "data": {
      "text/plain": [
       "(264, 4)"
      ]
     },
     "execution_count": 22,
     "metadata": {},
     "output_type": "execute_result"
    }
   ],
   "source": [
    "c2_demand1.shape"
   ]
  },
  {
   "cell_type": "code",
   "execution_count": 23,
   "metadata": {},
   "outputs": [
    {
     "data": {
      "text/html": [
       "<div>\n",
       "<style scoped>\n",
       "    .dataframe tbody tr th:only-of-type {\n",
       "        vertical-align: middle;\n",
       "    }\n",
       "\n",
       "    .dataframe tbody tr th {\n",
       "        vertical-align: top;\n",
       "    }\n",
       "\n",
       "    .dataframe thead th {\n",
       "        text-align: right;\n",
       "    }\n",
       "</style>\n",
       "<table border=\"1\" class=\"dataframe\">\n",
       "  <thead>\n",
       "    <tr style=\"text-align: right;\">\n",
       "      <th></th>\n",
       "      <th>type_code</th>\n",
       "      <th>date</th>\n",
       "      <th>gtype_v</th>\n",
       "      <th>game_v</th>\n",
       "    </tr>\n",
       "  </thead>\n",
       "  <tbody>\n",
       "    <tr>\n",
       "      <th>0</th>\n",
       "      <td>T200100</td>\n",
       "      <td>20170131</td>\n",
       "      <td>5.394237</td>\n",
       "      <td>44.885675</td>\n",
       "    </tr>\n",
       "    <tr>\n",
       "      <th>1</th>\n",
       "      <td>T200200</td>\n",
       "      <td>20170131</td>\n",
       "      <td>8.144833</td>\n",
       "      <td>108.861570</td>\n",
       "    </tr>\n",
       "    <tr>\n",
       "      <th>2</th>\n",
       "      <td>T200300</td>\n",
       "      <td>20170131</td>\n",
       "      <td>5.291457</td>\n",
       "      <td>48.776628</td>\n",
       "    </tr>\n",
       "    <tr>\n",
       "      <th>3</th>\n",
       "      <td>T200400</td>\n",
       "      <td>20170131</td>\n",
       "      <td>6.497331</td>\n",
       "      <td>69.139835</td>\n",
       "    </tr>\n",
       "    <tr>\n",
       "      <th>4</th>\n",
       "      <td>T200500</td>\n",
       "      <td>20170131</td>\n",
       "      <td>7.313310</td>\n",
       "      <td>111.769414</td>\n",
       "    </tr>\n",
       "  </tbody>\n",
       "</table>\n",
       "</div>"
      ],
      "text/plain": [
       "  type_code      date   gtype_v      game_v\n",
       "0   T200100  20170131  5.394237   44.885675\n",
       "1   T200200  20170131  8.144833  108.861570\n",
       "2   T200300  20170131  5.291457   48.776628\n",
       "3   T200400  20170131  6.497331   69.139835\n",
       "4   T200500  20170131  7.313310  111.769414"
      ]
     },
     "execution_count": 23,
     "metadata": {},
     "output_type": "execute_result"
    }
   ],
   "source": [
    "c2_demand1.head()"
   ]
  },
  {
   "cell_type": "markdown",
   "metadata": {},
   "source": [
    "# 2. clean data"
   ]
  },
  {
   "cell_type": "markdown",
   "metadata": {},
   "source": [
    "## 2.2 drop appleid with no perf and diff"
   ]
  },
  {
   "cell_type": "code",
   "execution_count": 24,
   "metadata": {},
   "outputs": [
    {
     "name": "stdout",
     "output_type": "stream",
     "text": [
      "Sample size: appleid with perf and diff = 1447\n"
     ]
    }
   ],
   "source": [
    "appleid_perf1 = set(perf1['appleid'].values.tolist())\n",
    "appleid_diff1 = set(diff1['appleid'].values.tolist())\n",
    "appleid_bs1 = set(bs1['appleid'].values.tolist())\n",
    "appleid_interset = list(appleid_perf1 & appleid_diff1 & appleid_bs1)\n",
    "print('Sample size: appleid with perf and diff = {}'.format(len(appleid_interset)))"
   ]
  },
  {
   "cell_type": "code",
   "execution_count": 25,
   "metadata": {},
   "outputs": [
    {
     "name": "stdout",
     "output_type": "stream",
     "text": [
      "(1447, 9)\n"
     ]
    }
   ],
   "source": [
    "bs2 = bs1[bs1['appleid'].isin(appleid_interset)].drop_duplicates(subset = ['appleid'])\n",
    "\n",
    "print(bs2.shape)"
   ]
  },
  {
   "cell_type": "code",
   "execution_count": 26,
   "metadata": {},
   "outputs": [
    {
     "data": {
      "text/html": [
       "<div>\n",
       "<style scoped>\n",
       "    .dataframe tbody tr th:only-of-type {\n",
       "        vertical-align: middle;\n",
       "    }\n",
       "\n",
       "    .dataframe tbody tr th {\n",
       "        vertical-align: top;\n",
       "    }\n",
       "\n",
       "    .dataframe thead th {\n",
       "        text-align: right;\n",
       "    }\n",
       "</style>\n",
       "<table border=\"1\" class=\"dataframe\">\n",
       "  <thead>\n",
       "    <tr style=\"text-align: right;\">\n",
       "      <th></th>\n",
       "      <th>appleid</th>\n",
       "      <th>span</th>\n",
       "      <th>price</th>\n",
       "      <th>payInApp</th>\n",
       "      <th>size</th>\n",
       "      <th>compatibility</th>\n",
       "      <th>contentRank</th>\n",
       "      <th>age</th>\n",
       "      <th>samepubappnum</th>\n",
       "    </tr>\n",
       "  </thead>\n",
       "  <tbody>\n",
       "    <tr>\n",
       "      <th>30</th>\n",
       "      <td>307751675</td>\n",
       "      <td>1.0</td>\n",
       "      <td>6.0</td>\n",
       "      <td>1</td>\n",
       "      <td>12.82</td>\n",
       "      <td>5.1</td>\n",
       "      <td>4.0</td>\n",
       "      <td>8.197260</td>\n",
       "      <td>80</td>\n",
       "    </tr>\n",
       "    <tr>\n",
       "      <th>87</th>\n",
       "      <td>342994828</td>\n",
       "      <td>2.0</td>\n",
       "      <td>0.0</td>\n",
       "      <td>0</td>\n",
       "      <td>41.50</td>\n",
       "      <td>6.0</td>\n",
       "      <td>4.0</td>\n",
       "      <td>8.052055</td>\n",
       "      <td>208</td>\n",
       "    </tr>\n",
       "    <tr>\n",
       "      <th>91</th>\n",
       "      <td>343200656</td>\n",
       "      <td>1.0</td>\n",
       "      <td>0.0</td>\n",
       "      <td>1</td>\n",
       "      <td>155.18</td>\n",
       "      <td>8.0</td>\n",
       "      <td>4.0</td>\n",
       "      <td>8.063014</td>\n",
       "      <td>25</td>\n",
       "    </tr>\n",
       "    <tr>\n",
       "      <th>131</th>\n",
       "      <td>359917414</td>\n",
       "      <td>1.0</td>\n",
       "      <td>0.0</td>\n",
       "      <td>1</td>\n",
       "      <td>224.04</td>\n",
       "      <td>NaN</td>\n",
       "      <td>4.0</td>\n",
       "      <td>7.794521</td>\n",
       "      <td>34</td>\n",
       "    </tr>\n",
       "    <tr>\n",
       "      <th>133</th>\n",
       "      <td>362949845</td>\n",
       "      <td>1.0</td>\n",
       "      <td>12.0</td>\n",
       "      <td>1</td>\n",
       "      <td>108.99</td>\n",
       "      <td>7.0</td>\n",
       "      <td>4.0</td>\n",
       "      <td>7.704110</td>\n",
       "      <td>13</td>\n",
       "    </tr>\n",
       "  </tbody>\n",
       "</table>\n",
       "</div>"
      ],
      "text/plain": [
       "       appleid  span  price  payInApp    size  compatibility  contentRank  \\\n",
       "30   307751675   1.0    6.0         1   12.82            5.1          4.0   \n",
       "87   342994828   2.0    0.0         0   41.50            6.0          4.0   \n",
       "91   343200656   1.0    0.0         1  155.18            8.0          4.0   \n",
       "131  359917414   1.0    0.0         1  224.04            NaN          4.0   \n",
       "133  362949845   1.0   12.0         1  108.99            7.0          4.0   \n",
       "\n",
       "          age  samepubappnum  \n",
       "30   8.197260             80  \n",
       "87   8.052055            208  \n",
       "91   8.063014             25  \n",
       "131  7.794521             34  \n",
       "133  7.704110             13  "
      ]
     },
     "execution_count": 26,
     "metadata": {},
     "output_type": "execute_result"
    }
   ],
   "source": [
    "bs2.head()"
   ]
  },
  {
   "cell_type": "markdown",
   "metadata": {},
   "source": [
    "# 3. create new var"
   ]
  },
  {
   "cell_type": "markdown",
   "metadata": {},
   "source": [
    "## 3.1 diff"
   ]
  },
  {
   "cell_type": "code",
   "execution_count": 27,
   "metadata": {},
   "outputs": [
    {
     "name": "stdout",
     "output_type": "stream",
     "text": [
      "(17046, 5)\n"
     ]
    }
   ],
   "source": [
    "diff2 = diff1.copy()\n",
    "diff2.rename(columns = {'diff_e_max': 'diff'}, inplace = True)\n",
    "diff2['diff2'] = diff2['diff']* diff2['diff']\n",
    "print(diff2.shape)"
   ]
  },
  {
   "cell_type": "code",
   "execution_count": 28,
   "metadata": {},
   "outputs": [
    {
     "data": {
      "text/html": [
       "<div>\n",
       "<style scoped>\n",
       "    .dataframe tbody tr th:only-of-type {\n",
       "        vertical-align: middle;\n",
       "    }\n",
       "\n",
       "    .dataframe tbody tr th {\n",
       "        vertical-align: top;\n",
       "    }\n",
       "\n",
       "    .dataframe thead th {\n",
       "        text-align: right;\n",
       "    }\n",
       "</style>\n",
       "<table border=\"1\" class=\"dataframe\">\n",
       "  <thead>\n",
       "    <tr style=\"text-align: right;\">\n",
       "      <th></th>\n",
       "      <th>appleid</th>\n",
       "      <th>type_code</th>\n",
       "      <th>date</th>\n",
       "      <th>diff</th>\n",
       "      <th>diff2</th>\n",
       "    </tr>\n",
       "  </thead>\n",
       "  <tbody>\n",
       "    <tr>\n",
       "      <th>0</th>\n",
       "      <td>1074628617</td>\n",
       "      <td>T200500</td>\n",
       "      <td>20170131</td>\n",
       "      <td>0.776210</td>\n",
       "      <td>0.602503</td>\n",
       "    </tr>\n",
       "    <tr>\n",
       "      <th>1</th>\n",
       "      <td>1074628617</td>\n",
       "      <td>T200500</td>\n",
       "      <td>20170228</td>\n",
       "      <td>0.776484</td>\n",
       "      <td>0.602927</td>\n",
       "    </tr>\n",
       "    <tr>\n",
       "      <th>2</th>\n",
       "      <td>1074628617</td>\n",
       "      <td>T200500</td>\n",
       "      <td>20170331</td>\n",
       "      <td>0.776747</td>\n",
       "      <td>0.603337</td>\n",
       "    </tr>\n",
       "    <tr>\n",
       "      <th>3</th>\n",
       "      <td>1074628617</td>\n",
       "      <td>T200500</td>\n",
       "      <td>20170430</td>\n",
       "      <td>0.777052</td>\n",
       "      <td>0.603810</td>\n",
       "    </tr>\n",
       "    <tr>\n",
       "      <th>4</th>\n",
       "      <td>1074628617</td>\n",
       "      <td>T200500</td>\n",
       "      <td>20170531</td>\n",
       "      <td>0.777343</td>\n",
       "      <td>0.604262</td>\n",
       "    </tr>\n",
       "  </tbody>\n",
       "</table>\n",
       "</div>"
      ],
      "text/plain": [
       "      appleid type_code      date      diff     diff2\n",
       "0  1074628617   T200500  20170131  0.776210  0.602503\n",
       "1  1074628617   T200500  20170228  0.776484  0.602927\n",
       "2  1074628617   T200500  20170331  0.776747  0.603337\n",
       "3  1074628617   T200500  20170430  0.777052  0.603810\n",
       "4  1074628617   T200500  20170531  0.777343  0.604262"
      ]
     },
     "execution_count": 28,
     "metadata": {},
     "output_type": "execute_result"
    }
   ],
   "source": [
    "diff2.head()"
   ]
  },
  {
   "cell_type": "markdown",
   "metadata": {},
   "source": [
    "## 3.2 demand1"
   ]
  },
  {
   "cell_type": "code",
   "execution_count": 29,
   "metadata": {},
   "outputs": [
    {
     "name": "stdout",
     "output_type": "stream",
     "text": [
      "(18625, 3)\n"
     ]
    }
   ],
   "source": [
    "demand2 = demand1.copy()\n",
    "demand2['hetero'] = demand2['g_game_v'] + demand2['g_gtype_v']\n",
    "demand2 = demand2.drop(columns = ['g_game_v','g_gtype_v'])\n",
    "print(demand2.shape)"
   ]
  },
  {
   "cell_type": "code",
   "execution_count": 30,
   "metadata": {},
   "outputs": [
    {
     "data": {
      "text/html": [
       "<div>\n",
       "<style scoped>\n",
       "    .dataframe tbody tr th:only-of-type {\n",
       "        vertical-align: middle;\n",
       "    }\n",
       "\n",
       "    .dataframe tbody tr th {\n",
       "        vertical-align: top;\n",
       "    }\n",
       "\n",
       "    .dataframe thead th {\n",
       "        text-align: right;\n",
       "    }\n",
       "</style>\n",
       "<table border=\"1\" class=\"dataframe\">\n",
       "  <thead>\n",
       "    <tr style=\"text-align: right;\">\n",
       "      <th></th>\n",
       "      <th>appleid</th>\n",
       "      <th>date</th>\n",
       "      <th>hetero</th>\n",
       "    </tr>\n",
       "  </thead>\n",
       "  <tbody>\n",
       "    <tr>\n",
       "      <th>0</th>\n",
       "      <td>66204</td>\n",
       "      <td>20170131</td>\n",
       "      <td>108.950794</td>\n",
       "    </tr>\n",
       "    <tr>\n",
       "      <th>1</th>\n",
       "      <td>66204</td>\n",
       "      <td>20170228</td>\n",
       "      <td>146.236559</td>\n",
       "    </tr>\n",
       "    <tr>\n",
       "      <th>2</th>\n",
       "      <td>66204</td>\n",
       "      <td>20170331</td>\n",
       "      <td>117.647783</td>\n",
       "    </tr>\n",
       "    <tr>\n",
       "      <th>3</th>\n",
       "      <td>66204</td>\n",
       "      <td>20170430</td>\n",
       "      <td>511.631579</td>\n",
       "    </tr>\n",
       "    <tr>\n",
       "      <th>4</th>\n",
       "      <td>66204</td>\n",
       "      <td>20170531</td>\n",
       "      <td>101.754941</td>\n",
       "    </tr>\n",
       "  </tbody>\n",
       "</table>\n",
       "</div>"
      ],
      "text/plain": [
       "   appleid      date      hetero\n",
       "0    66204  20170131  108.950794\n",
       "1    66204  20170228  146.236559\n",
       "2    66204  20170331  117.647783\n",
       "3    66204  20170430  511.631579\n",
       "4    66204  20170531  101.754941"
      ]
     },
     "execution_count": 30,
     "metadata": {},
     "output_type": "execute_result"
    }
   ],
   "source": [
    "demand2.head()"
   ]
  },
  {
   "cell_type": "markdown",
   "metadata": {},
   "source": [
    "## 3.3 c_demand"
   ]
  },
  {
   "cell_type": "code",
   "execution_count": 36,
   "metadata": {},
   "outputs": [
    {
     "name": "stdout",
     "output_type": "stream",
     "text": [
      "(264, 4)\n"
     ]
    }
   ],
   "source": [
    "c2_demand2 = c2_demand1.copy()\n",
    "c2_demand2['c_hetro'] = c2_demand2['gtype_v'] + c2_demand2['game_v']\n",
    "c2_demand2 = c2_demand2.drop(columns = ['gtype_v', 'game_v'])\n",
    "c1_demand1['date'] = c1_demand1['date'].apply(lambda x: str(x))\n",
    "c_demand1 = c1_demand1.merge(c2_demand2, on = ['type_code','date'])\n",
    "c_demand1 = c_demand1[['type_code','date','gv_action','c_hetro']]\n",
    "print(c_demand1.shape)"
   ]
  },
  {
   "cell_type": "code",
   "execution_count": 39,
   "metadata": {},
   "outputs": [
    {
     "data": {
      "text/html": [
       "<div>\n",
       "<style scoped>\n",
       "    .dataframe tbody tr th:only-of-type {\n",
       "        vertical-align: middle;\n",
       "    }\n",
       "\n",
       "    .dataframe tbody tr th {\n",
       "        vertical-align: top;\n",
       "    }\n",
       "\n",
       "    .dataframe thead th {\n",
       "        text-align: right;\n",
       "    }\n",
       "</style>\n",
       "<table border=\"1\" class=\"dataframe\">\n",
       "  <thead>\n",
       "    <tr style=\"text-align: right;\">\n",
       "      <th></th>\n",
       "      <th>type_code</th>\n",
       "      <th>date</th>\n",
       "      <th>gv_action</th>\n",
       "      <th>c_hetro</th>\n",
       "    </tr>\n",
       "  </thead>\n",
       "  <tbody>\n",
       "    <tr>\n",
       "      <th>0</th>\n",
       "      <td>T200100</td>\n",
       "      <td>20170131</td>\n",
       "      <td>95.510855</td>\n",
       "      <td>50.279912</td>\n",
       "    </tr>\n",
       "    <tr>\n",
       "      <th>1</th>\n",
       "      <td>T200200</td>\n",
       "      <td>20170131</td>\n",
       "      <td>411.297467</td>\n",
       "      <td>117.006402</td>\n",
       "    </tr>\n",
       "    <tr>\n",
       "      <th>2</th>\n",
       "      <td>T200300</td>\n",
       "      <td>20170131</td>\n",
       "      <td>108.266318</td>\n",
       "      <td>54.068085</td>\n",
       "    </tr>\n",
       "    <tr>\n",
       "      <th>3</th>\n",
       "      <td>T200400</td>\n",
       "      <td>20170131</td>\n",
       "      <td>193.082326</td>\n",
       "      <td>75.637166</td>\n",
       "    </tr>\n",
       "    <tr>\n",
       "      <th>4</th>\n",
       "      <td>T200500</td>\n",
       "      <td>20170131</td>\n",
       "      <td>432.797553</td>\n",
       "      <td>119.082725</td>\n",
       "    </tr>\n",
       "    <tr>\n",
       "      <th>5</th>\n",
       "      <td>T200600</td>\n",
       "      <td>20170131</td>\n",
       "      <td>96.968274</td>\n",
       "      <td>50.188811</td>\n",
       "    </tr>\n",
       "    <tr>\n",
       "      <th>6</th>\n",
       "      <td>T200700</td>\n",
       "      <td>20170131</td>\n",
       "      <td>1654.089902</td>\n",
       "      <td>283.769048</td>\n",
       "    </tr>\n",
       "    <tr>\n",
       "      <th>7</th>\n",
       "      <td>T200800</td>\n",
       "      <td>20170131</td>\n",
       "      <td>550.126319</td>\n",
       "      <td>124.471807</td>\n",
       "    </tr>\n",
       "    <tr>\n",
       "      <th>8</th>\n",
       "      <td>T200900</td>\n",
       "      <td>20170131</td>\n",
       "      <td>245.033782</td>\n",
       "      <td>76.385008</td>\n",
       "    </tr>\n",
       "    <tr>\n",
       "      <th>9</th>\n",
       "      <td>T200999</td>\n",
       "      <td>20170131</td>\n",
       "      <td>0.461538</td>\n",
       "      <td>7.928775</td>\n",
       "    </tr>\n",
       "    <tr>\n",
       "      <th>10</th>\n",
       "      <td>T201000</td>\n",
       "      <td>20170131</td>\n",
       "      <td>49.940462</td>\n",
       "      <td>33.178616</td>\n",
       "    </tr>\n",
       "    <tr>\n",
       "      <th>11</th>\n",
       "      <td>T201100</td>\n",
       "      <td>20170131</td>\n",
       "      <td>22.281553</td>\n",
       "      <td>29.948065</td>\n",
       "    </tr>\n",
       "    <tr>\n",
       "      <th>12</th>\n",
       "      <td>T201200</td>\n",
       "      <td>20170131</td>\n",
       "      <td>233.788328</td>\n",
       "      <td>80.724424</td>\n",
       "    </tr>\n",
       "    <tr>\n",
       "      <th>13</th>\n",
       "      <td>T201300</td>\n",
       "      <td>20170131</td>\n",
       "      <td>20.716801</td>\n",
       "      <td>21.540771</td>\n",
       "    </tr>\n",
       "    <tr>\n",
       "      <th>14</th>\n",
       "      <td>T201400</td>\n",
       "      <td>20170131</td>\n",
       "      <td>262.720158</td>\n",
       "      <td>89.647417</td>\n",
       "    </tr>\n",
       "    <tr>\n",
       "      <th>15</th>\n",
       "      <td>T201500</td>\n",
       "      <td>20170131</td>\n",
       "      <td>19.407165</td>\n",
       "      <td>23.414744</td>\n",
       "    </tr>\n",
       "    <tr>\n",
       "      <th>16</th>\n",
       "      <td>T201600</td>\n",
       "      <td>20170131</td>\n",
       "      <td>145.677733</td>\n",
       "      <td>62.319224</td>\n",
       "    </tr>\n",
       "    <tr>\n",
       "      <th>17</th>\n",
       "      <td>T201700</td>\n",
       "      <td>20170131</td>\n",
       "      <td>84.709006</td>\n",
       "      <td>47.756113</td>\n",
       "    </tr>\n",
       "    <tr>\n",
       "      <th>18</th>\n",
       "      <td>T201800</td>\n",
       "      <td>20170131</td>\n",
       "      <td>253.659300</td>\n",
       "      <td>85.669096</td>\n",
       "    </tr>\n",
       "    <tr>\n",
       "      <th>19</th>\n",
       "      <td>T201900</td>\n",
       "      <td>20170131</td>\n",
       "      <td>37.328019</td>\n",
       "      <td>30.166886</td>\n",
       "    </tr>\n",
       "    <tr>\n",
       "      <th>20</th>\n",
       "      <td>T202000</td>\n",
       "      <td>20170131</td>\n",
       "      <td>32.044801</td>\n",
       "      <td>25.983998</td>\n",
       "    </tr>\n",
       "    <tr>\n",
       "      <th>21</th>\n",
       "      <td>T202100</td>\n",
       "      <td>20170131</td>\n",
       "      <td>30.775817</td>\n",
       "      <td>25.752019</td>\n",
       "    </tr>\n",
       "    <tr>\n",
       "      <th>22</th>\n",
       "      <td>T200100</td>\n",
       "      <td>20170228</td>\n",
       "      <td>80.617442</td>\n",
       "      <td>47.423761</td>\n",
       "    </tr>\n",
       "    <tr>\n",
       "      <th>23</th>\n",
       "      <td>T200200</td>\n",
       "      <td>20170228</td>\n",
       "      <td>325.993652</td>\n",
       "      <td>107.816615</td>\n",
       "    </tr>\n",
       "  </tbody>\n",
       "</table>\n",
       "</div>"
      ],
      "text/plain": [
       "   type_code      date    gv_action     c_hetro\n",
       "0    T200100  20170131    95.510855   50.279912\n",
       "1    T200200  20170131   411.297467  117.006402\n",
       "2    T200300  20170131   108.266318   54.068085\n",
       "3    T200400  20170131   193.082326   75.637166\n",
       "4    T200500  20170131   432.797553  119.082725\n",
       "5    T200600  20170131    96.968274   50.188811\n",
       "6    T200700  20170131  1654.089902  283.769048\n",
       "7    T200800  20170131   550.126319  124.471807\n",
       "8    T200900  20170131   245.033782   76.385008\n",
       "9    T200999  20170131     0.461538    7.928775\n",
       "10   T201000  20170131    49.940462   33.178616\n",
       "11   T201100  20170131    22.281553   29.948065\n",
       "12   T201200  20170131   233.788328   80.724424\n",
       "13   T201300  20170131    20.716801   21.540771\n",
       "14   T201400  20170131   262.720158   89.647417\n",
       "15   T201500  20170131    19.407165   23.414744\n",
       "16   T201600  20170131   145.677733   62.319224\n",
       "17   T201700  20170131    84.709006   47.756113\n",
       "18   T201800  20170131   253.659300   85.669096\n",
       "19   T201900  20170131    37.328019   30.166886\n",
       "20   T202000  20170131    32.044801   25.983998\n",
       "21   T202100  20170131    30.775817   25.752019\n",
       "22   T200100  20170228    80.617442   47.423761\n",
       "23   T200200  20170228   325.993652  107.816615"
      ]
     },
     "execution_count": 39,
     "metadata": {},
     "output_type": "execute_result"
    }
   ],
   "source": [
    "c_demand1.head(24)"
   ]
  },
  {
   "cell_type": "markdown",
   "metadata": {},
   "source": [
    "## 3.4 perf"
   ]
  },
  {
   "cell_type": "code",
   "execution_count": 55,
   "metadata": {},
   "outputs": [
    {
     "name": "stdout",
     "output_type": "stream",
     "text": [
      "(14222, 3)\n"
     ]
    }
   ],
   "source": [
    "mau1 = perf1[['appleid', 'date','mau']].dropna(how = 'any')\n",
    "mau1 = mau1[~mau1['mau'].isin([0])]\n",
    "print(mau1.shape)"
   ]
  },
  {
   "cell_type": "code",
   "execution_count": 57,
   "metadata": {},
   "outputs": [
    {
     "name": "stdout",
     "output_type": "stream",
     "text": [
      "(18625, 3)\n"
     ]
    }
   ],
   "source": [
    "cover1 = perf1[['appleid', 'date', 'coverage']].dropna(how = 'any')\n",
    "cover1 = cover1[~cover1['coverage'].isin([0])]\n",
    "print(cover1.shape)"
   ]
  },
  {
   "cell_type": "markdown",
   "metadata": {},
   "source": [
    "# 4. merge"
   ]
  },
  {
   "cell_type": "markdown",
   "metadata": {},
   "source": [
    "## 4.1 level 1"
   ]
  },
  {
   "cell_type": "code",
   "execution_count": 62,
   "metadata": {},
   "outputs": [
    {
     "name": "stdout",
     "output_type": "stream",
     "text": [
      "(10809, 7)\n",
      "(14293, 7)\n"
     ]
    }
   ],
   "source": [
    "lv1_mau_1 = mau1.merge(diff2, on = ['appleid','date']).merge(demand2, on = ['appleid', 'date']).dropna(how = 'any')\n",
    "lv1_cover_1 = cover1.merge(diff2, on = ['appleid', 'date']).merge(demand2, on = ['appleid', 'date']).dropna(how = 'any')\n",
    "lv1_mau_1 = lv1_mau_1.merge(bs2, on = ['appleid'], how = 'left')\n",
    "lv1_cover_1 = lv1_cover_1.merge(bs2, on = ['appleid'], how = 'left') \n",
    "print(lv1_mau_1.shape)\n",
    "print(lv1_cover_1.shape)"
   ]
  },
  {
   "cell_type": "code",
   "execution_count": 63,
   "metadata": {},
   "outputs": [
    {
     "data": {
      "text/html": [
       "<div>\n",
       "<style scoped>\n",
       "    .dataframe tbody tr th:only-of-type {\n",
       "        vertical-align: middle;\n",
       "    }\n",
       "\n",
       "    .dataframe tbody tr th {\n",
       "        vertical-align: top;\n",
       "    }\n",
       "\n",
       "    .dataframe thead th {\n",
       "        text-align: right;\n",
       "    }\n",
       "</style>\n",
       "<table border=\"1\" class=\"dataframe\">\n",
       "  <thead>\n",
       "    <tr style=\"text-align: right;\">\n",
       "      <th></th>\n",
       "      <th>appleid</th>\n",
       "      <th>date</th>\n",
       "      <th>mau</th>\n",
       "      <th>type_code</th>\n",
       "      <th>diff</th>\n",
       "      <th>diff2</th>\n",
       "      <th>hetero</th>\n",
       "    </tr>\n",
       "  </thead>\n",
       "  <tbody>\n",
       "    <tr>\n",
       "      <th>0</th>\n",
       "      <td>307751675</td>\n",
       "      <td>20170131</td>\n",
       "      <td>0.000013</td>\n",
       "      <td>T201300</td>\n",
       "      <td>0.765219</td>\n",
       "      <td>0.585560</td>\n",
       "      <td>2.600000</td>\n",
       "    </tr>\n",
       "    <tr>\n",
       "      <th>1</th>\n",
       "      <td>342994828</td>\n",
       "      <td>20170131</td>\n",
       "      <td>0.000415</td>\n",
       "      <td>T201300</td>\n",
       "      <td>0.894975</td>\n",
       "      <td>0.800981</td>\n",
       "      <td>194.814785</td>\n",
       "    </tr>\n",
       "    <tr>\n",
       "      <th>2</th>\n",
       "      <td>342994828</td>\n",
       "      <td>20170131</td>\n",
       "      <td>0.000415</td>\n",
       "      <td>T202000</td>\n",
       "      <td>0.894975</td>\n",
       "      <td>0.800981</td>\n",
       "      <td>194.814785</td>\n",
       "    </tr>\n",
       "    <tr>\n",
       "      <th>4</th>\n",
       "      <td>359917414</td>\n",
       "      <td>20170131</td>\n",
       "      <td>0.000024</td>\n",
       "      <td>T202000</td>\n",
       "      <td>0.838119</td>\n",
       "      <td>0.702444</td>\n",
       "      <td>19.403281</td>\n",
       "    </tr>\n",
       "    <tr>\n",
       "      <th>5</th>\n",
       "      <td>362949845</td>\n",
       "      <td>20170131</td>\n",
       "      <td>0.000616</td>\n",
       "      <td>T201300</td>\n",
       "      <td>0.873545</td>\n",
       "      <td>0.763080</td>\n",
       "      <td>355.187284</td>\n",
       "    </tr>\n",
       "  </tbody>\n",
       "</table>\n",
       "</div>"
      ],
      "text/plain": [
       "     appleid      date       mau type_code      diff     diff2      hetero\n",
       "0  307751675  20170131  0.000013   T201300  0.765219  0.585560    2.600000\n",
       "1  342994828  20170131  0.000415   T201300  0.894975  0.800981  194.814785\n",
       "2  342994828  20170131  0.000415   T202000  0.894975  0.800981  194.814785\n",
       "4  359917414  20170131  0.000024   T202000  0.838119  0.702444   19.403281\n",
       "5  362949845  20170131  0.000616   T201300  0.873545  0.763080  355.187284"
      ]
     },
     "execution_count": 63,
     "metadata": {},
     "output_type": "execute_result"
    }
   ],
   "source": [
    "lv1_mau_1.head()"
   ]
  },
  {
   "cell_type": "code",
   "execution_count": 64,
   "metadata": {},
   "outputs": [
    {
     "data": {
      "text/html": [
       "<div>\n",
       "<style scoped>\n",
       "    .dataframe tbody tr th:only-of-type {\n",
       "        vertical-align: middle;\n",
       "    }\n",
       "\n",
       "    .dataframe tbody tr th {\n",
       "        vertical-align: top;\n",
       "    }\n",
       "\n",
       "    .dataframe thead th {\n",
       "        text-align: right;\n",
       "    }\n",
       "</style>\n",
       "<table border=\"1\" class=\"dataframe\">\n",
       "  <thead>\n",
       "    <tr style=\"text-align: right;\">\n",
       "      <th></th>\n",
       "      <th>appleid</th>\n",
       "      <th>date</th>\n",
       "      <th>coverage</th>\n",
       "      <th>type_code</th>\n",
       "      <th>diff</th>\n",
       "      <th>diff2</th>\n",
       "      <th>hetero</th>\n",
       "    </tr>\n",
       "  </thead>\n",
       "  <tbody>\n",
       "    <tr>\n",
       "      <th>0</th>\n",
       "      <td>307751675</td>\n",
       "      <td>20170131</td>\n",
       "      <td>0.000013</td>\n",
       "      <td>T201300</td>\n",
       "      <td>0.765219</td>\n",
       "      <td>0.585560</td>\n",
       "      <td>2.600000</td>\n",
       "    </tr>\n",
       "    <tr>\n",
       "      <th>1</th>\n",
       "      <td>342994828</td>\n",
       "      <td>20170131</td>\n",
       "      <td>0.004253</td>\n",
       "      <td>T201300</td>\n",
       "      <td>0.894975</td>\n",
       "      <td>0.800981</td>\n",
       "      <td>194.814785</td>\n",
       "    </tr>\n",
       "    <tr>\n",
       "      <th>2</th>\n",
       "      <td>342994828</td>\n",
       "      <td>20170131</td>\n",
       "      <td>0.004253</td>\n",
       "      <td>T202000</td>\n",
       "      <td>0.894975</td>\n",
       "      <td>0.800981</td>\n",
       "      <td>194.814785</td>\n",
       "    </tr>\n",
       "    <tr>\n",
       "      <th>4</th>\n",
       "      <td>359917414</td>\n",
       "      <td>20170131</td>\n",
       "      <td>0.000206</td>\n",
       "      <td>T202000</td>\n",
       "      <td>0.838119</td>\n",
       "      <td>0.702444</td>\n",
       "      <td>19.403281</td>\n",
       "    </tr>\n",
       "    <tr>\n",
       "      <th>5</th>\n",
       "      <td>362949845</td>\n",
       "      <td>20170131</td>\n",
       "      <td>0.005239</td>\n",
       "      <td>T201300</td>\n",
       "      <td>0.873545</td>\n",
       "      <td>0.763080</td>\n",
       "      <td>355.187284</td>\n",
       "    </tr>\n",
       "  </tbody>\n",
       "</table>\n",
       "</div>"
      ],
      "text/plain": [
       "     appleid      date  coverage type_code      diff     diff2      hetero\n",
       "0  307751675  20170131  0.000013   T201300  0.765219  0.585560    2.600000\n",
       "1  342994828  20170131  0.004253   T201300  0.894975  0.800981  194.814785\n",
       "2  342994828  20170131  0.004253   T202000  0.894975  0.800981  194.814785\n",
       "4  359917414  20170131  0.000206   T202000  0.838119  0.702444   19.403281\n",
       "5  362949845  20170131  0.005239   T201300  0.873545  0.763080  355.187284"
      ]
     },
     "execution_count": 64,
     "metadata": {},
     "output_type": "execute_result"
    }
   ],
   "source": [
    "lv1_cover_1.head()"
   ]
  },
  {
   "cell_type": "markdown",
   "metadata": {},
   "source": [
    "# 5. add id"
   ]
  },
  {
   "cell_type": "code",
   "execution_count": null,
   "metadata": {},
   "outputs": [],
   "source": [
    "# add lv2id\n",
    "lv2_1 = c_demand1.copy()\n",
    "\n",
    "lv2_1['lv2id'] = lv2_1['date'].str.slice(4,6)+c_demand1['type_code'].str.slice(3)\n",
    "lv2_1['lv2id'] = lv2_1['lv2id'].astype('int')\n",
    "\n",
    "lv1_mau_2 = lv1_mau_1.merge(lv2_1[['type_code','date','lv2id']], on = ['type_code','date'])\n",
    "lv1_cover_2 = lv1_cover_1.merge(lv2_1[['type_code','date','lv2id']], on = ['type_code','date'])"
   ]
  },
  {
   "cell_type": "markdown",
   "metadata": {},
   "source": [
    "# 6. save"
   ]
  },
  {
   "cell_type": "code",
   "execution_count": 69,
   "metadata": {},
   "outputs": [],
   "source": [
    "if not os.path.exists(os.path.join(save_path,'dod_lv1_mau20200206.csv')):\n",
    "    lv1_mau_2.to_csv(os.path.join(save_path,'dod_lv1_mau20200206.csv'),index = False)\n",
    "if not os.path.exists(os.path.join(save_path, 'dod_lv1_cover20200206.csv')):\n",
    "    lv1_cover_2.to_csv(os.path.join(save_path,'dod_lv1_cover20200206.csv'),index = False)\n",
    "if not os.path.exists(os.path.join(save_path, 'dod_lv2_catedemand20200206.csv')):\n",
    "    lv2_1.to_csv(os.path.join(save_path, 'dod_lv2_catedemand20200206.csv'), index = False)"
   ]
  }
 ],
 "metadata": {
  "kernelspec": {
   "display_name": "Python 3",
   "language": "python",
   "name": "python3"
  },
  "language_info": {
   "codemirror_mode": {
    "name": "ipython",
    "version": 3
   },
   "file_extension": ".py",
   "mimetype": "text/x-python",
   "name": "python",
   "nbconvert_exporter": "python",
   "pygments_lexer": "ipython3",
   "version": "3.7.4"
  }
 },
 "nbformat": 4,
 "nbformat_minor": 4
}
